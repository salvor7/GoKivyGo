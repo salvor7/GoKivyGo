{
 "cells": [
  {
   "cell_type": "code",
   "execution_count": 1,
   "metadata": {
    "collapsed": false
   },
   "outputs": [
    {
     "name": "stdout",
     "output_type": "stream",
     "text": [
      "Overwriting debug.kv\n"
     ]
    }
   ],
   "source": [
    "%%file debug.kv\n",
    "#:import random random\n",
    "    \n",
    "<Widget>:\n",
    "    canvas.after:\n",
    "        Color:\n",
    "            rgba: 1,1,1,.5\n",
    "        Line:\n",
    "            rectangle: self.x, self.y, self.width, self.height\n",
    "            width: 2\n",
    "                \n",
    "<DebugLabel@Button>:\n",
    "    size: self.parent.size\n",
    "    pos: self.parent.pos\n",
    "    background_color: random.random(), random.random(), random.random(), 0.6\n",
    "    text: 'debuglabel'"
   ]
  },
  {
   "cell_type": "code",
   "execution_count": 2,
   "metadata": {
    "collapsed": false
   },
   "outputs": [
    {
     "name": "stdout",
     "output_type": "stream",
     "text": [
      "Overwriting gokivygo.kv\n"
     ]
    }
   ],
   "source": [
    "%%file gokivygo.kv\n",
    "#:include debug.kv\n",
    "#:import Logger kivy.logger.Logger\n",
    "          \n",
    "<Button>\n",
    "    background_color: 0, 0, 0, 0\n",
    "    \n",
    "<BoardImage>:\n",
    "    source: 'board.png'\n",
    "        \n",
    "<GoKivyGo>: \n",
    "    orientation: 'horizontal'\n",
    "    padding: 20\n",
    "    spacing: 10\n",
    "\n",
    "    Board:\n",
    "\n",
    "    BoxLayout:\n",
    "        size_hint: 0.7, 1\n",
    "        orientation: 'vertical'\n",
    "        padding: 20\n",
    "        spacing: 10\n",
    "        Button:\n",
    "            text: 'Captures'\n",
    "        Button:\n",
    "            text: 'Context'\n",
    "        Button:\n",
    "            text: 'Info01'\n",
    "\n",
    "<Board>:\n",
    "    background: _image_id\n",
    "    BoardImage:\n",
    "        id: _image_id\n",
    "        pos: self.parent.x, self.parent.y\n",
    "    ButtonGrid:\n",
    "        size: _image_id.norm_image_size\n",
    "        pos: _image_id.pos\n",
    "        padding: _image_id.width * 0.009\n",
    "        spacing: _image_id.width * 0.005\n",
    "            \n",
    "<ButtonGrid>:\n",
    "    size_hint: None,None\n",
    "    pos_hint: { 'center_x': 0.5, 'center_y': 0.5 }\n",
    "    cols: 19"
   ]
  },
  {
   "cell_type": "code",
   "execution_count": 3,
   "metadata": {
    "collapsed": false
   },
   "outputs": [
    {
     "name": "stdout",
     "output_type": "stream",
     "text": [
      "Overwriting main.py\n"
     ]
    }
   ],
   "source": [
    "%%file main.py\n",
    "from kivy.app import App\n",
    "from kivy.uix.boxlayout import BoxLayout\n",
    "from kivy.uix.floatlayout import FloatLayout\n",
    "from kivy.uix.gridlayout import GridLayout\n",
    "from kivy.uix.button import Button\n",
    "from kivy.uix.image import Image\n",
    "from kivy.logger import Logger\n",
    "from kivy.properties import ObjectProperty\n",
    "from kivy.clock import Clock\n",
    "\n",
    "class GoKivyGo(BoxLayout):\n",
    "    pass\n",
    "\n",
    "class Board(FloatLayout):\n",
    "    background = ObjectProperty(None)\n",
    "    \n",
    "    def __init__(self, **kw):\n",
    "        super(Board, self).__init__(**kw)\n",
    "        try:\n",
    "            self.method1()\n",
    "        except AttributeError:\n",
    "            Clock.schedule_once(self.method1)\n",
    "            \n",
    "    def method1(self, inst=None, value=None):\n",
    "        Logger.info(str(self.background.texture))\n",
    "\n",
    "        \n",
    "class ButtonGrid(GridLayout):\n",
    "    \n",
    "    def __init__(self, **kwargs):\n",
    "        super(ButtonGrid, self).__init__(**kwargs)\n",
    "        for i in range(19*19):\n",
    "            self.add_cell(i)\n",
    "            \n",
    "    def add_cell(self, index):\n",
    "        def _update_loc(inst, value):\n",
    "            '''Move a child to a new new size/pos. Used by add_cell'''\n",
    "            inst.cover.size = inst.size\n",
    "            inst.cover.pos = inst.pos\n",
    "\n",
    "        b = Button(text=str(index))\n",
    "        ##self.bind(pos=_update_loc, size=_update_loc)\n",
    "        self.add_widget(b)\n",
    "\n",
    "        \n",
    "class BoardImage(Image):\n",
    "    pass\n",
    "\n",
    "class GoKivyGoApp(App):\n",
    "    def build(self):\n",
    "        return GoKivyGo()\n",
    "\n",
    "if __name__ == '__main__':\n",
    "    GoKivyGoApp().run()"
   ]
  },
  {
   "cell_type": "code",
   "execution_count": 4,
   "metadata": {
    "collapsed": false,
    "scrolled": true
   },
   "outputs": [
    {
     "name": "stderr",
     "output_type": "stream",
     "text": [
      "[INFO              ] [Logger      ] Record log in C:\\Users\\salvor7\\.kivy\\logs\\kivy_16-06-02_103.txt\n",
      "[INFO              ] [Kivy        ] v1.9.1\n",
      "[INFO              ] [Python      ] v3.4.4 |Continuum Analytics, Inc.| (default, Feb 16 2016, 09:54:04) [MSC v.1600 64 bit (AMD64)]\n",
      "[INFO              ] [Factory     ] 179 symbols loaded\n",
      "[INFO              ] [Image       ] Providers: img_tex, img_dds, img_gif, img_sdl2 (img_pil, img_ffpyplayer ignored)\n",
      "[INFO              ] [Text        ] Provider: sdl2\n",
      "[INFO              ] [OSC         ] using <thread> for socket\n",
      "[INFO              ] [Window      ] Provider: sdl2\n",
      "[INFO              ] [GL          ] GLEW initialization succeeded\n",
      "[INFO              ] [GL          ] OpenGL version <b'4.5.0 NVIDIA 359.46'>\n",
      "[INFO              ] [GL          ] OpenGL vendor <b'NVIDIA Corporation'>\n",
      "[INFO              ] [GL          ] OpenGL renderer <b'GeForce GTX 960M/PCIe/SSE2'>\n",
      "[INFO              ] [GL          ] OpenGL parsed version: 4, 5\n",
      "[INFO              ] [GL          ] Shading version <b'4.50 NVIDIA'>\n",
      "[INFO              ] [GL          ] Texture max size <16384>\n",
      "[INFO              ] [GL          ] Texture max units <32>\n",
      "[INFO              ] [Window      ] auto add sdl2 input provider\n",
      "[INFO              ] [Window      ] virtual keyboard not allowed, single mode, not docked\n",
      "[INFO              ] [GL          ] NPOT texture support is available\n",
      "[INFO              ] [Base        ] Start application main loop\n",
      "[INFO              ] <Texture hash=58402000 id=2 size=(2000, 2000) colorfmt='rgb' bufferfmt='ubyte' source='False|board.png|0|0' observers=0>\n",
      "[INFO              ] [Base        ] Leaving application in progress...\n"
     ]
    }
   ],
   "source": [
    "!python main.py"
   ]
  },
  {
   "cell_type": "code",
   "execution_count": null,
   "metadata": {
    "collapsed": true
   },
   "outputs": [],
   "source": []
  }
 ],
 "metadata": {
  "kernelspec": {
   "display_name": "Python 3",
   "language": "python",
   "name": "python3"
  },
  "language_info": {
   "codemirror_mode": {
    "name": "ipython",
    "version": 3
   },
   "file_extension": ".py",
   "mimetype": "text/x-python",
   "name": "python",
   "nbconvert_exporter": "python",
   "pygments_lexer": "ipython3",
   "version": "3.4.4"
  }
 },
 "nbformat": 4,
 "nbformat_minor": 0
}
