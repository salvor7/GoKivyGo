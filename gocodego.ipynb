{
 "cells": [
  {
   "cell_type": "code",
   "execution_count": null,
   "metadata": {
    "collapsed": false
   },
   "outputs": [],
   "source": [
    "%%file debug.kv\n",
    "#:import random random\n",
    "    \n",
    "<Widget>:\n",
    "    canvas.after:\n",
    "        Color:\n",
    "            rgba: 1,1,1,.5\n",
    "        Line:\n",
    "            rectangle: self.x, self.y, self.width, self.height\n",
    "            width: 2\n",
    "                \n",
    "<DebugLabel@Button>:\n",
    "    size: self.parent.size\n",
    "    pos: self.parent.pos\n",
    "    background_color: random.random(), random.random(), random.random(), 0.6\n",
    "    text: 'debuglabel'"
   ]
  },
  {
   "cell_type": "code",
   "execution_count": null,
   "metadata": {
    "collapsed": false
   },
   "outputs": [],
   "source": [
    "%%file gokivygo.kv\n",
    "#:include debug.kv\n",
    "#:import Logger kivy.logger.Logger\n",
    "          \n",
    "<Button>\n",
    "    background_color: 0, 0, 0, 0\n",
    "    \n",
    "<BoardImage>:\n",
    "    source: 'board.png'\n",
    "        \n",
    "<GoKivyGo>: \n",
    "    orientation: 'horizontal'\n",
    "    padding: 20\n",
    "    spacing: 10\n",
    "\n",
    "    Board:\n",
    "\n",
    "    BoxLayout:\n",
    "        orientation: 'vertical'\n",
    "        padding: 20\n",
    "        spacing: 10\n",
    "        Button:\n",
    "            text: 'Captures'\n",
    "        Button:\n",
    "            text: 'Context'\n",
    "        Button:\n",
    "            text: 'Info01'\n",
    "\n",
    "<Board>:\n",
    "    background: _image_id\n",
    "    BoardImage:\n",
    "        id: _image_id\n",
    "        pos: self.parent.x, self.parent.y\n",
    "    GridLayout:\n",
    "        # pos: self.parent.pos\n",
    "        # size: self.parent.size\n",
    "        # height: min(_image_id.width, _image_id.height)\n",
    "        size: _image_id.norm_image_size\n",
    "        pos: _image_id.pos\n",
    "        size_hint: None,None\n",
    "        pos_hint: { 'center_x': 0.5, 'center_y': 0.5 }\n",
    "        # pos_hint: None,None\n",
    "        cols: 3\n",
    "        Button:\n",
    "            text: \"Button 1\"\n",
    "            on_release: Logger.debug(_image_id.pos)\n",
    "        Button:\n",
    "            text: \"Button 2\"\n",
    "        Button:\n",
    "            text: \"Button 3\"\n",
    "        Button:\n",
    "            text: \"Button 4\"\n",
    "        Button:\n",
    "            text: \"Button 5\"\n",
    "        Button:\n",
    "            text: \"Button 6\"\n",
    "        Button:\n",
    "            text: \"Button 6\"\n",
    "        Button:\n",
    "            text: \"Button 6\"\n",
    "        Button:\n",
    "            text: \"Button 6\"\n",
    "\n",
    "\n"
   ]
  },
  {
   "cell_type": "code",
   "execution_count": null,
   "metadata": {
    "collapsed": false
   },
   "outputs": [],
   "source": [
    "%%file main.py\n",
    "from kivy.app import App\n",
    "from kivy.uix.boxlayout import BoxLayout\n",
    "from kivy.uix.floatlayout import FloatLayout\n",
    "from kivy.uix.image import Image\n",
    "from kivy.logger import Logger\n",
    "from kivy.properties import ObjectProperty\n",
    "from kivy.clock import Clock\n",
    "\n",
    "class GoKivyGo(BoxLayout):\n",
    "    pass\n",
    "\n",
    "class Board(FloatLayout):\n",
    "    background = ObjectProperty(None)\n",
    "    \n",
    "    def __init__(self, **kw):\n",
    "        super().__init__(**kw)\n",
    "        try:\n",
    "            self.method1()\n",
    "        except AttributeError:\n",
    "            Clock.schedule_once(self.method1)\n",
    "            \n",
    "    def method1(self, inst=None, value=None):\n",
    "        Logger.info(self.background.texture)\n",
    "\n",
    "class BoardImage(Image):\n",
    "    pass\n",
    "\n",
    "class GoKivyGoApp(App):\n",
    "    def build(self):\n",
    "        return GoKivyGo()\n",
    "\n",
    "if __name__ == '__main__':\n",
    "    GoKivyGoApp().run()"
   ]
  },
  {
   "cell_type": "code",
   "execution_count": null,
   "metadata": {
    "collapsed": false,
    "scrolled": true
   },
   "outputs": [],
   "source": [
    "!python main.py"
   ]
  }
 ],
 "metadata": {
  "kernelspec": {
   "display_name": "Python 3",
   "language": "python",
   "name": "python3"
  },
  "language_info": {
   "codemirror_mode": {
    "name": "ipython",
    "version": 3
   },
   "file_extension": ".py",
   "mimetype": "text/x-python",
   "name": "python",
   "nbconvert_exporter": "python",
   "pygments_lexer": "ipython3",
   "version": "3.5.1"
  }
 },
 "nbformat": 4,
 "nbformat_minor": 0
}
