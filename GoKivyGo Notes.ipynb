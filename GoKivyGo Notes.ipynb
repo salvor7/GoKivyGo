{
 "cells": [
  {
   "cell_type": "markdown",
   "metadata": {},
   "source": [
    "# Beginnings - Framing the Game\n",
    "\n",
    "- decided on a box layout with a horizontal orientation splitting the screen in two\n",
    "- wishlist: dynamically switching between horizontal & vertical box layouts (for something like mobile)\n",
    "- TODO: even split at this point, will offset with more size toward the board later\n",
    "- put in a few different boxes on the right for different game context as placeholder values"
   ]
  },
  {
   "cell_type": "markdown",
   "metadata": {
    "collapsed": true
   },
   "source": [
    "# Board Rendering - First Try!\n",
    "\n",
    "- Looked at how we were going to render the board so that you could click on intersections to play them\n",
    "- Setup a simple GridLayout to be buttons for clicking, just a small 3x3 to start\n",
    "- Tried to set a background image on that layout, but weren't having success with that\n",
    "- Kjell suggested we use a Float Layout, so that we could just have the GridLayout & an Image be absolutely positioned on top of each other, worked!\n",
    "- Had a while trying to figure out how to make the GridLayout fit the image in particular rather than the entire entry of the parent BoxLayout\n",
    "    - The image itself keeps its square regardless of how the screen is resized, we need Buttons to follow that\n",
    "    - turned out that the trick was using Image's [norm_image_size](https://kivy.org/docs/api-kivy.uix.image.html?highlight=image#kivy.uix.image.Image.norm_image_size) to get the size of the image, no matter how it was resized\n",
    "    - Once we had this, the image was the right size, but not in the right position. We noticed that what we wanted from the position was to be in the middle of the frame, and Kjell immediately informed us that `pos_hint: 0.5, 0.5` was the magic we were looking for\n",
    "- BEHOLD!"
   ]
  },
  {
   "cell_type": "code",
   "execution_count": 36,
   "metadata": {
    "collapsed": false
   },
   "outputs": [
    {
     "data": {
      "text/html": [
       "<img src=\"Screen Shots/df4961a.png\" width=1000 />"
      ],
      "text/plain": [
       "<IPython.core.display.HTML object>"
      ]
     },
     "metadata": {},
     "output_type": "display_data"
    }
   ],
   "source": [
    "%%html\n",
    "<img src=\"Screen Shots/df4961a.png\" width=1000 />"
   ]
  },
  {
   "cell_type": "markdown",
   "metadata": {},
   "source": [
    "# Expanding the Button Grid\n",
    "\n",
    "- Goal: Expand from the 3x3 board to the 361 buttons needed to cover the full 19x19 board\n",
    "- Didn't seem a good idea to add 361 children to a .kv file, so we looked into dynamically generating them\n",
    "- Kjell gave us some code for resizing the generated buttons based on their parent's size (as it is resized)\n",
    "    - we aren't dealing with piece images yet. we'll see the benefits of that later\n",
    "- Turned out adding buttons to the GridLayout do get put in the correct spot thanks to the layout parameters\n",
    "- Did some tweaking of the padding & spacing parameters on GridLayout until satisfied with deadzones between the playable intersections"
   ]
  },
  {
   "cell_type": "code",
   "execution_count": 37,
   "metadata": {
    "collapsed": false
   },
   "outputs": [
    {
     "data": {
      "text/html": [
       "<img src=\"Screen Shots/361 buttons positioned correctly.png\" width=1000 />"
      ],
      "text/plain": [
       "<IPython.core.display.HTML object>"
      ]
     },
     "metadata": {},
     "output_type": "display_data"
    }
   ],
   "source": [
    "%%html\n",
    "<img src=\"Screen Shots/361 buttons positioned correctly.png\" width=1000 />"
   ]
  },
  {
   "cell_type": "markdown",
   "metadata": {},
   "source": [
    "# The Wee Hours of the Night\n",
    "\n",
    "- Andrew went on a solo journey after dinner, when Kevin departed from the group\n",
    "- Made the changeover from notebook development to individual file development:\n",
    "    - Brought the notebook completely up-to-date\n",
    "    - Had the notebook create the files one last time\n",
    "    - Cut over to developing the files that the notebook used to generate\n",
    "    - Deleted the notebook from the repo\n",
    "- Andrew brought out his secret weapon, an older go module that he'd previously made to manage board state (`go.py`)"
   ]
  },
  {
   "cell_type": "markdown",
   "metadata": {},
   "source": [
    "# Morning, the 2nd\n",
    "\n",
    "- Tried out running the game without debug mode, made sure it presents correctly\n",
    "- Wired together button `on_press` events to button info, mainly index\n",
    "    - You can see our button clicks have reported their intersection index in the console log below:"
   ]
  },
  {
   "cell_type": "code",
   "execution_count": 38,
   "metadata": {
    "collapsed": false,
    "scrolled": true
   },
   "outputs": [
    {
     "data": {
      "text/html": [
       "<img src=\"Screen Shots/No debug mode - intersection IDs set.png\" width=1000 />"
      ],
      "text/plain": [
       "<IPython.core.display.HTML object>"
      ]
     },
     "metadata": {},
     "output_type": "display_data"
    }
   ],
   "source": [
    "%%html\n",
    "<img src=\"Screen Shots/No debug mode - intersection IDs set.png\" width=1000 />"
   ]
  },
  {
   "cell_type": "markdown",
   "metadata": {},
   "source": [
    "# Wiring Together the Go Representation & Rendering\n",
    "\n",
    "- Created a bind callback for our intersection buttons that reports click positions back to the go representation library\n",
    "    - go library has nice functionality to print out the board state of a position in the console\n",
    "- during this process, we ran into [Common Problem 1](#commonproblem1). Check the link for more info\n",
    "- Setup representation & pass through to board, so that positions could be drawn correctly from the representation\n",
    "    - initially, just setting the button text to the appropriate letter ('', 'B', or 'W') before moving to images\n",
    "- Added images (check [Assets](#Assets) section for more info) for the stones, & hooked them in instead of the text\n",
    "    - Actually created a descendant of Image called StoneImage\n",
    "    - Has its own `sourceblack` & `sourcewhite` properties, which point to the different image sources\n",
    "    - When game state changes, we change the image source to be one of the two above\n",
    "    - We also set the color transparency, so that you can have an intersection empty as well\n",
    "        - This happens in the board start position, & also after captures\n",
    "- Now that all of this happens, a particular board state is shown below:"
   ]
  },
  {
   "cell_type": "code",
   "execution_count": 39,
   "metadata": {
    "collapsed": false
   },
   "outputs": [
    {
     "data": {
      "text/html": [
       "<img src=\"Screen Shots/508dbfcc.png\" width=1000 />"
      ],
      "text/plain": [
       "<IPython.core.display.HTML object>"
      ]
     },
     "metadata": {},
     "output_type": "display_data"
    }
   ],
   "source": [
    "%%html\n",
    "<img src=\"Screen Shots/508dbfcc.png\" width=1000 />"
   ]
  },
  {
   "cell_type": "markdown",
   "metadata": {},
   "source": [
    "# Error Codes & Bad Play\n",
    "\n",
    "- In The Beginning, the go module throws exceptions for illegal play\n",
    "- First move: just ignore the exceptions\n",
    "    - Since the UI only reads from the state, & the state doesn't update for illegal play, illegal moves don't change the board\n",
    "    - Unfortunately, they also don't update you in any way to let you know you've made an illegal move\n",
    "- Next: Passing the error message (from the go library) to the Context window on the right side of the screen\n",
    "    - This looked pretty tricky to us, as we'd have to pass the message from buttons (at the bottom of the board tree inside GridLayout) to the Context buttons (at the opposite end of the board tree in the context window)\n",
    "    - Jacob helped us out by teaching us [trick 1](#trick1), listed below\n",
    "    - This allowed us to set text from one to the other. An error situation is shown below:"
   ]
  },
  {
   "cell_type": "code",
   "execution_count": 40,
   "metadata": {
    "collapsed": false
   },
   "outputs": [
    {
     "data": {
      "text/html": [
       "<img src=\"Screen Shots/f7f99a321.png\" width=1000 />"
      ],
      "text/plain": [
       "<IPython.core.display.HTML object>"
      ]
     },
     "metadata": {},
     "output_type": "display_data"
    }
   ],
   "source": [
    "%%html\n",
    "<img src=\"Screen Shots/f7f99a321.png\" width=1000 />"
   ]
  },
  {
   "cell_type": "markdown",
   "metadata": {},
   "source": [
    "# Day 2, Fin\n",
    "\n",
    "- Coffee Count: 3"
   ]
  },
  {
   "cell_type": "markdown",
   "metadata": {},
   "source": [
    "<a id=\"commonproblem1\"></a>\n",
    "# Common Problem 1: Races\n",
    "\n",
    "In kivy, there is a common problem (especially in `__init__` methods) where you can try to call some kivy functionality before it's ready. In this case, what's usually thrown is an `AttributeError`. Usually in kivy, there isn't much you can do to make sure you execute your code after other things are ready.\n",
    "\n",
    "In kivent, there's much more code around this process, and this issue can be managed through the tools they provide. But since we're just living without that at this point, we'll resort to the workaround, listed here:"
   ]
  },
  {
   "cell_type": "code",
   "execution_count": 41,
   "metadata": {
    "collapsed": false
   },
   "outputs": [],
   "source": [
    "# commented out so this doesn't actually run. You'll need it for the Clock.schedule_once method below\n",
    "# from kivy.clock import Clock\n",
    "\n",
    "def code_youre_trying_to_run(self):\n",
    "    try:\n",
    "        self.method1()\n",
    "    except AttributeError:\n",
    "        Clock.schedule_once(self.method1)\n",
    "    \n",
    "def method1(self, instance=None, value=None):\n",
    "    do_what_you_actually_wanted()"
   ]
  },
  {
   "cell_type": "markdown",
   "metadata": {},
   "source": [
    "What this does is tries your method, but if it doesn't work, then it tries scheduling your method for later execution.\n",
    "\n",
    "When does it execute? The one parameter version of `schedule_once` schedules it for the next clock tick that the process gets, but you can also provide a number as the second parameter, which will be the number of clock ticks after that that it'll execute.\n",
    "\n",
    "Note that the `method1` method takes a specific signature, and you'll have to work around that. If you'd rather ignore those parameters, you can do what we did above (just not using them at all), or you can use the lambda method shown below if you'd like to use variables from the `try-except` context:"
   ]
  },
  {
   "cell_type": "code",
   "execution_count": 42,
   "metadata": {
    "collapsed": false
   },
   "outputs": [
    {
     "data": {
      "text/plain": [
       "<ClockEvent callback=<function <lambda> at 0x7f2b22713048>>"
      ]
     },
     "execution_count": 42,
     "metadata": {},
     "output_type": "execute_result"
    }
   ],
   "source": [
    "Clock.schedule_once(lambda dt: self.add_books(local_vars_go_here), 0.1)"
   ]
  },
  {
   "cell_type": "markdown",
   "metadata": {},
   "source": [
    "<a id=\"trick1\"></a>\n",
    "# Trick 1: Traversing Deep Trees\n",
    "\n",
    "\n",
    "- If you need to traverse up and down a kivy tree a lot, a good way to get at that is to use the root app's `ids` dict:\n",
    "- Caveat: This only works for items with their id defined in the main kivy App tree\n",
    "- Circumstantial: Suspect that if you get at any kivy rule object, they might have their own `ids` dict\n",
    "- Call `App.get_running_app().root.ids` to reference the dict\n",
    "- Once you have that `ids` dict, you can reference it either through a key, or by dot notation:\n",
    "    - `ids['_image_id']` or `ids._image_id` should both work\n",
    "- The object that you get back is the one referenced by that particular ID, so you can immediately chain calls to the referenced object after the ID"
   ]
  },
  {
   "cell_type": "markdown",
   "metadata": {},
   "source": [
    "# Caveats\n",
    "\n",
    "- bit of a weird state to begin with, were working on different python versions (2 & 3)\n",
    "    - didn't end up biting us while developing from the notebook\n",
    "    - During Andrew's solo adventures, system was updated to 3, so we worked on 3 together after that"
   ]
  },
  {
   "cell_type": "markdown",
   "metadata": {},
   "source": [
    "# Assets\n",
    "\n",
    "- images\n",
    "    - [board](https://upload.wikimedia.org/wikipedia/commons/thumb/9/9b/Blank_Go_board.svg/2000px-Blank_Go_board.svg.png)\n",
    "    - [black stone](https://upload.wikimedia.org/wikipedia/en/thumb/b/b6/Realistic_Go_Stone.svg/250px-Realistic_Go_Stone.svg.png)\n",
    "    - [white stone](https://upload.wikimedia.org/wikipedia/en/thumb/2/20/Realistic_White_Go_Stone.svg/250px-Realistic_White_Go_Stone.svg.png)\n",
    "- sounds"
   ]
  },
  {
   "cell_type": "markdown",
   "metadata": {},
   "source": [
    "# TODOs\n",
    "\n",
    "- license?\n",
    "- non-debug mode splash screen"
   ]
  },
  {
   "cell_type": "markdown",
   "metadata": {},
   "source": [
    "# GIFs of Awesome\n",
    "\n",
    "Be warned. Awesomeness located below:"
   ]
  },
  {
   "cell_type": "code",
   "execution_count": 43,
   "metadata": {
    "collapsed": false
   },
   "outputs": [
    {
     "data": {
      "text/html": [
       "<img src=\"Screen Shots/gokivygo.gif\" width=600 />"
      ],
      "text/plain": [
       "<IPython.core.display.HTML object>"
      ]
     },
     "metadata": {},
     "output_type": "display_data"
    }
   ],
   "source": [
    "%%html\n",
    "<img src=\"Screen Shots/gokivygo.gif\" width=600 />"
   ]
  },
  {
   "cell_type": "code",
   "execution_count": 44,
   "metadata": {
    "collapsed": false
   },
   "outputs": [
    {
     "data": {
      "text/html": [
       "<img src=\"Screen Shots/gokivygo_ladder01.gif\" width=600 />"
      ],
      "text/plain": [
       "<IPython.core.display.HTML object>"
      ]
     },
     "metadata": {},
     "output_type": "display_data"
    }
   ],
   "source": [
    "%%html\n",
    "<img src=\"Screen Shots/gokivygo_ladder01.gif\" width=600 />"
   ]
  },
  {
   "cell_type": "code",
   "execution_count": null,
   "metadata": {
    "collapsed": true
   },
   "outputs": [],
   "source": []
  }
 ],
 "metadata": {
  "kernelspec": {
   "display_name": "Python 3",
   "language": "python",
   "name": "python3"
  },
  "language_info": {
   "codemirror_mode": {
    "name": "ipython",
    "version": 3
   },
   "file_extension": ".py",
   "mimetype": "text/x-python",
   "name": "python",
   "nbconvert_exporter": "python",
   "pygments_lexer": "ipython3",
   "version": "3.5.1"
  }
 },
 "nbformat": 4,
 "nbformat_minor": 0
}
