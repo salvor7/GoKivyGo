{
 "cells": [
  {
   "cell_type": "markdown",
   "metadata": {},
   "source": [
    "# Beginnings - Framing the Game\n",
    "\n",
    "- decided on a box layout with a horizontal orientation splitting the screen in two\n",
    "- wishlist: dynamically switching between horizontal & vertical box layouts (for something like mobile)\n",
    "- TODO: even split at this point, will offset with more size toward the board later\n",
    "- put in a few different boxes on the right for different game context as placeholder values"
   ]
  },
  {
   "cell_type": "markdown",
   "metadata": {
    "collapsed": true
   },
   "source": [
    "# Board Rendering - First Try!\n",
    "\n",
    "- Looked at how we were going to render the board so that you could click on intersections to play them\n",
    "- Setup a simple GridLayout to be buttons for clicking, just a small 3x3 to start\n",
    "- Tried to set a background image on that layout, but weren't having success with that\n",
    "- Kjell suggested we use a Float Layout, so that we could just have the GridLayout & an Image be absolutely positioned on top of each other, worked!\n",
    "- Had a while trying to figure out how to make the GridLayout fit the image in particular rather than the entire entry of the parent BoxLayout\n",
    "    - The image itself keeps its square regardless of how the screen is resized, we need Buttons to follow that\n",
    "    - turned out that the trick was using Image's [norm_image_size](https://kivy.org/docs/api-kivy.uix.image.html?highlight=image#kivy.uix.image.Image.norm_image_size) to get the size of the image, no matter how it was resized\n",
    "    - Once we had this, the image was the right size, but not in the right position. We noticed that what we wanted from the position was to be in the middle of the frame, and Kjell immediately informed us that `pos_hint: 0.5, 0.5` was the magic we were looking for\n",
    "- BEHOLD!"
   ]
  },
  {
   "cell_type": "code",
   "execution_count": 1,
   "metadata": {
    "collapsed": false
   },
   "outputs": [
    {
     "data": {
      "text/html": [
       "<img src=\"Screen Shots/df4961a.png\" width=1000 />"
      ],
      "text/plain": [
       "<IPython.core.display.HTML object>"
      ]
     },
     "metadata": {},
     "output_type": "display_data"
    }
   ],
   "source": [
    "%%html\n",
    "<img src=\"Screen Shots/df4961a.png\" width=1000 />"
   ]
  },
  {
   "cell_type": "markdown",
   "metadata": {},
   "source": [
    "# Expanding the Button Grid\n",
    "\n",
    "- Goal: Expand from the 3x3 board to the 361 buttons needed to cover the full 19x19 board\n",
    "- Didn't seem a good idea to add 361 children to a .kv file, so we looked into dynamically generating them\n",
    "- Kjell gave us some code for resizing the generated buttons based on their parent's size (as it is resized)\n",
    "    - we aren't dealing with piece images yet. we'll see the benefits of that later\n",
    "- Turned out adding buttons to the GridLayout do get put in the correct spot thanks to the layout parameters\n",
    "- Did some tweaking of the padding & spacing parameters on GridLayout until satisfied with deadzones between the playable intersections"
   ]
  },
  {
   "cell_type": "code",
   "execution_count": 2,
   "metadata": {
    "collapsed": false
   },
   "outputs": [
    {
     "data": {
      "text/html": [
       "<img src=\"Screen Shots/361 buttons positioned correctly.png\" width=1000 />"
      ],
      "text/plain": [
       "<IPython.core.display.HTML object>"
      ]
     },
     "metadata": {},
     "output_type": "display_data"
    }
   ],
   "source": [
    "%%html\n",
    "<img src=\"Screen Shots/361 buttons positioned correctly.png\" width=1000 />"
   ]
  },
  {
   "cell_type": "markdown",
   "metadata": {},
   "source": [
    "# The Wee Hours of the Night\n",
    "\n",
    "- Andrew went on a solo journey after dinner, when Kevin departed from the group\n",
    "- Made the changeover from notebook development to individual file development:\n",
    "    - Brought the notebook completely up-to-date\n",
    "    - Had the notebook create the files one last time\n",
    "    - Cut over to developing the files that the notebook used to generate\n",
    "    - Deleted the notebook from the repo\n",
    "- Andrew brought out his secret weapon, an older go module that he'd previously made to manage board state (`go.py`)"
   ]
  },
  {
   "cell_type": "markdown",
   "metadata": {},
   "source": [
    "# Morning, the 2nd\n",
    "\n",
    "- Tried out running the game without debug mode, made sure it presents correctly\n",
    "- Wired together button `on_press` events to button info, mainly index\n",
    "    - You can see our button clicks have reported their intersection index in the console log below:"
   ]
  },
  {
   "cell_type": "code",
   "execution_count": 4,
   "metadata": {
    "collapsed": false,
    "scrolled": true
   },
   "outputs": [
    {
     "data": {
      "text/html": [
       "<img src=\"Screen Shots/No debug mode - intersection IDs set.png\" width=1000 />"
      ],
      "text/plain": [
       "<IPython.core.display.HTML object>"
      ]
     },
     "metadata": {},
     "output_type": "display_data"
    }
   ],
   "source": [
    "%%html\n",
    "<img src=\"Screen Shots/No debug mode - intersection IDs set.png\" width=1000 />"
   ]
  },
  {
   "cell_type": "markdown",
   "metadata": {},
   "source": [
    "# Wiring Together the Go Representation & Rendering\n",
    "\n",
    "- Created a bind callback for our intersection buttons that reports click positions back to the go representation library\n",
    "    - go library has a nice ability to print out the board state of a position\n"
   ]
  },
  {
   "cell_type": "markdown",
   "metadata": {},
   "source": [
    "# Caveats\n",
    "\n",
    "- bit of a weird state to begin with, were working on different python versions (2 & 3)\n",
    "    - didn't end up biting us while developing from the notebook"
   ]
  }
 ],
 "metadata": {
  "kernelspec": {
   "display_name": "Python 3",
   "language": "python",
   "name": "python3"
  },
  "language_info": {
   "codemirror_mode": {
    "name": "ipython",
    "version": 3
   },
   "file_extension": ".py",
   "mimetype": "text/x-python",
   "name": "python",
   "nbconvert_exporter": "python",
   "pygments_lexer": "ipython3",
   "version": "3.5.1"
  }
 },
 "nbformat": 4,
 "nbformat_minor": 0
}
